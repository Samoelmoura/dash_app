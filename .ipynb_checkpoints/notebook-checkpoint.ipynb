{
 "cells": [
  {
   "cell_type": "code",
   "execution_count": 1,
   "id": "9cb6086b",
   "metadata": {
    "ExecuteTime": {
     "end_time": "2023-11-03T15:40:35.634643Z",
     "start_time": "2023-11-03T15:40:35.153782Z"
    }
   },
   "outputs": [],
   "source": [
    "from dash import Dash, html, dcc\n",
    "import pandas as pd\n",
    "from dash_bootstrap_templates import load_figure_template\n",
    "import dash_bootstrap_components as dbc\n",
    "import plotly.express as px"
   ]
  },
  {
   "cell_type": "code",
   "execution_count": 2,
   "id": "1429127a",
   "metadata": {
    "ExecuteTime": {
     "end_time": "2023-11-03T15:40:35.650145Z",
     "start_time": "2023-11-03T15:40:35.637111Z"
    }
   },
   "outputs": [],
   "source": [
    "df = pd.read_csv('./data/df_raw.csv')\n",
    "df.drop('Unnamed: 0', axis=1, inplace=True)\n",
    "\n",
    "temp = df['weekly_sales'].mean()\n",
    "temp = round(temp)"
   ]
  },
  {
   "cell_type": "code",
   "execution_count": 60,
   "id": "9f2d56bb",
   "metadata": {
    "ExecuteTime": {
     "end_time": "2023-11-03T16:02:51.426579Z",
     "start_time": "2023-11-03T16:02:50.880637Z"
    },
    "scrolled": false
   },
   "outputs": [
    {
     "data": {
      "text/html": [
       "\n",
       "        <iframe\n",
       "            width=\"100%\"\n",
       "            height=\"650\"\n",
       "            src=\"http://127.0.0.1:8050/\"\n",
       "            frameborder=\"0\"\n",
       "            allowfullscreen\n",
       "            \n",
       "        ></iframe>\n",
       "        "
      ],
      "text/plain": [
       "<IPython.lib.display.IFrame at 0x7f06cd049fc0>"
      ]
     },
     "metadata": {},
     "output_type": "display_data"
    }
   ],
   "source": [
    "dbc_css = 'https://cdn.jsdelivr.net/gh/AnnMarieW/dash-bootstrap-templates/dbc.min.css'\n",
    "\n",
    "load_figure_template('slate')\n",
    "\n",
    "app = Dash(__name__, external_stylesheets=[dbc.themes.SLATE, dbc_css])\n",
    "\n",
    "app.layout = html.Div(\n",
    "    className='quartz',\n",
    "    children=[\n",
    "        html.H1('Dashboard de Vendas', style=({'textAlign':'center'})),\n",
    "        dcc.Tabs(\n",
    "            className='dbc',\n",
    "            children=[\n",
    "                dcc.Tab(\n",
    "                    label='General Dashboard',\n",
    "                    children=[\n",
    "                        dbc.Row(\n",
    "                            style=({'textAlign':'center'}),\n",
    "                            children=[\n",
    "                                dbc.Col(\n",
    "                                    dbc.Card(\n",
    "                                        [\n",
    "                                            html.H4('KPI 1'),\n",
    "                                            html.H4(temp)\n",
    "                                        ]\n",
    "                                    )\n",
    "                                ),\n",
    "                                dbc.Col(\n",
    "                                    dbc.Card(\n",
    "                                        [\n",
    "                                            html.H4('KPI 1'),\n",
    "                                            html.H4(temp)\n",
    "                                        ]\n",
    "                                    )\n",
    "                                ),\n",
    "                                dbc.Col(\n",
    "                                    dbc.Card(\n",
    "                                        [\n",
    "                                            html.H4('KPI 1'),\n",
    "                                            html.H4(temp)\n",
    "                                        ]\n",
    "                                    )\n",
    "                                ),\n",
    "                                dbc.Col(\n",
    "                                    dbc.Card(\n",
    "                                        [\n",
    "                                            html.H4('KPI 1'),\n",
    "                                            html.H4(temp)\n",
    "                                        ]\n",
    "                                    )\n",
    "                                )\n",
    "                            ]\n",
    "                        ),\n",
    "                        dbc.Row(\n",
    "                            children=[\n",
    "                                dbc.Col(\n",
    "                                    children=[\n",
    "                                        dbc.Card(\n",
    "                                            dcc.Graph(\n",
    "                                                id='graph1'\n",
    "                                            ),\n",
    "                                            body=True,\n",
    "                                            className='w-75'\n",
    "                                        )\n",
    "                                    ],\n",
    "                                    width=6,\n",
    "                                ),\n",
    "                                dbc.Col(\n",
    "                                    children=[\n",
    "                                        dbc.Card(\n",
    "                                            dcc.Graph(\n",
    "                                                id='graph2'\n",
    "                                            ),\n",
    "                                            body=True,\n",
    "                                            className='w-75'\n",
    "                                        )\n",
    "                                    ],\n",
    "                                    width=6,\n",
    "                                )\n",
    "                            ]\n",
    "                        )\n",
    "                    ]\n",
    "                ),\n",
    "                dcc.Tab(\n",
    "                    label=\"Store's Dashboard\",\n",
    "                    children=[\n",
    "                        \n",
    "                    ]\n",
    "                )\n",
    "            ]\n",
    "        )\n",
    "    ]\n",
    ")\n",
    "\n",
    "fig1 = px.line(data_frame=df.loc[df['store']==1], x='date', y='weekly_sales')\n",
    "fig2 = px.histogram(data_frame=df.loc[df['store']==1], x='weekly_sales')\n",
    "\n",
    "app.layout['graph1'].figure = fig1\n",
    "app.layout['graph2'].figure = fig2\n",
    "\n",
    "if __name__ == '__main__':\n",
    "    app.run_server()"
   ]
  }
 ],
 "metadata": {
  "kernelspec": {
   "display_name": "Python 3 (ipykernel)",
   "language": "python",
   "name": "python3"
  },
  "language_info": {
   "codemirror_mode": {
    "name": "ipython",
    "version": 3
   },
   "file_extension": ".py",
   "mimetype": "text/x-python",
   "name": "python",
   "nbconvert_exporter": "python",
   "pygments_lexer": "ipython3",
   "version": "3.10.12"
  }
 },
 "nbformat": 4,
 "nbformat_minor": 5
}
